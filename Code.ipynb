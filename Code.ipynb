{
 "cells": [
  {
   "cell_type": "markdown",
   "id": "d986e75e",
   "metadata": {},
   "source": [
    "# Clustering"
   ]
  },
  {
   "cell_type": "markdown",
   "id": "0680464f",
   "metadata": {},
   "source": [
    "## K-means"
   ]
  },
  {
   "cell_type": "markdown",
   "id": "eb527604",
   "metadata": {},
   "source": [
    "Run this cell to read and display top 5 rows of data"
   ]
  },
  {
   "cell_type": "code",
   "execution_count": 10,
   "id": "6e02cdc6",
   "metadata": {},
   "outputs": [
    {
     "data": {
      "text/html": [
       "<div>\n",
       "<style scoped>\n",
       "    .dataframe tbody tr th:only-of-type {\n",
       "        vertical-align: middle;\n",
       "    }\n",
       "\n",
       "    .dataframe tbody tr th {\n",
       "        vertical-align: top;\n",
       "    }\n",
       "\n",
       "    .dataframe thead th {\n",
       "        text-align: right;\n",
       "    }\n",
       "</style>\n",
       "<table border=\"1\" class=\"dataframe\">\n",
       "  <thead>\n",
       "    <tr style=\"text-align: right;\">\n",
       "      <th></th>\n",
       "      <th>gender</th>\n",
       "      <th>age</th>\n",
       "      <th>hypertension</th>\n",
       "      <th>heart_disease</th>\n",
       "      <th>ever_married</th>\n",
       "      <th>work_type</th>\n",
       "      <th>avg_glucose_level</th>\n",
       "      <th>bmi</th>\n",
       "      <th>clusters</th>\n",
       "    </tr>\n",
       "  </thead>\n",
       "  <tbody>\n",
       "    <tr>\n",
       "      <th>0</th>\n",
       "      <td>1</td>\n",
       "      <td>67.0</td>\n",
       "      <td>0</td>\n",
       "      <td>1</td>\n",
       "      <td>1</td>\n",
       "      <td>2</td>\n",
       "      <td>228.69</td>\n",
       "      <td>36.600000</td>\n",
       "      <td>2</td>\n",
       "    </tr>\n",
       "    <tr>\n",
       "      <th>1</th>\n",
       "      <td>0</td>\n",
       "      <td>61.0</td>\n",
       "      <td>0</td>\n",
       "      <td>0</td>\n",
       "      <td>1</td>\n",
       "      <td>3</td>\n",
       "      <td>202.21</td>\n",
       "      <td>28.893237</td>\n",
       "      <td>0</td>\n",
       "    </tr>\n",
       "    <tr>\n",
       "      <th>2</th>\n",
       "      <td>1</td>\n",
       "      <td>80.0</td>\n",
       "      <td>0</td>\n",
       "      <td>1</td>\n",
       "      <td>1</td>\n",
       "      <td>2</td>\n",
       "      <td>105.92</td>\n",
       "      <td>32.500000</td>\n",
       "      <td>2</td>\n",
       "    </tr>\n",
       "    <tr>\n",
       "      <th>3</th>\n",
       "      <td>0</td>\n",
       "      <td>49.0</td>\n",
       "      <td>0</td>\n",
       "      <td>0</td>\n",
       "      <td>1</td>\n",
       "      <td>2</td>\n",
       "      <td>171.23</td>\n",
       "      <td>34.400000</td>\n",
       "      <td>0</td>\n",
       "    </tr>\n",
       "    <tr>\n",
       "      <th>4</th>\n",
       "      <td>0</td>\n",
       "      <td>79.0</td>\n",
       "      <td>1</td>\n",
       "      <td>0</td>\n",
       "      <td>1</td>\n",
       "      <td>3</td>\n",
       "      <td>174.12</td>\n",
       "      <td>24.000000</td>\n",
       "      <td>3</td>\n",
       "    </tr>\n",
       "  </tbody>\n",
       "</table>\n",
       "</div>"
      ],
      "text/plain": [
       "   gender   age  hypertension  heart_disease  ever_married  work_type  \\\n",
       "0       1  67.0             0              1             1          2   \n",
       "1       0  61.0             0              0             1          3   \n",
       "2       1  80.0             0              1             1          2   \n",
       "3       0  49.0             0              0             1          2   \n",
       "4       0  79.0             1              0             1          3   \n",
       "\n",
       "   avg_glucose_level        bmi  clusters  \n",
       "0             228.69  36.600000         2  \n",
       "1             202.21  28.893237         0  \n",
       "2             105.92  32.500000         2  \n",
       "3             171.23  34.400000         0  \n",
       "4             174.12  24.000000         3  "
      ]
     },
     "execution_count": 10,
     "metadata": {},
     "output_type": "execute_result"
    }
   ],
   "source": [
    "import pandas as pd\n",
    "import numpy as np\n",
    "import seaborn as sns\n",
    "import matplotlib.pyplot as plt\n",
    "\n",
    "\n",
    "cluster_data = pd.read_csv(\"healthcare-dataset.csv\")\n",
    "cluster_data.head()"
   ]
  },
  {
   "cell_type": "markdown",
   "id": "e950a86b",
   "metadata": {},
   "source": [
    "Imported the required libraries such as Pandas, Numpy, Seaborn, and Matplotlib to work with data and visualize it.\n",
    "Displayed the first five rows of the dataset using the head() function."
   ]
  },
  {
   "cell_type": "code",
   "execution_count": 11,
   "id": "845bb876",
   "metadata": {},
   "outputs": [
    {
     "data": {
      "text/plain": [
       "<matplotlib.axes._subplots.AxesSubplot at 0x7fcfce526950>"
      ]
     },
     "execution_count": 11,
     "metadata": {},
     "output_type": "execute_result"
    },
    {
     "data": {
      "image/png": "[encoded data removed]",
      "text/plain": [
       "<Figure size 432x288 with 1 Axes>"
      ]
     },
     "metadata": {
      "needs_background": "light"
     },
     "output_type": "display_data"
    }
   ],
   "source": [
    "df=cluster_data\n",
    "#to check the missing values with help of a visualization\n",
    "sns.heatmap(df.isnull(),yticklabels=False,cbar=False,cmap='viridis')"
   ]
  },
  {
   "cell_type": "markdown",
   "id": "8c1df889",
   "metadata": {},
   "source": [
    "Used the sns.heatmap() function from the Seaborn library to create a heatmap visualization of missing values in the dataset. The df.isnull() method returns a DataFrame of the same shape as df, with Boolean values indicating whether each element is missing or not. The heatmap uses a yellow-orange color palette (cmap='viridis') to represent the presence or absence of missing values in each column (yticklabels=False, cbar=False).\n",
    "\n",
    "\n",
    "\n",
    "\n"
   ]
  },
  {
   "cell_type": "markdown",
   "id": "bb36460d",
   "metadata": {},
   "source": [
    "\n",
    "\n",
    "Map the categorical data for further processing."
   ]
  },
  {
   "cell_type": "code",
   "execution_count": 12,
   "id": "afc683ff",
   "metadata": {},
   "outputs": [
    {
     "data": {
      "text/plain": [
       "2    2925\n",
       "3     819\n",
       "4     687\n",
       "0     657\n",
       "1      22\n",
       "Name: work_type, dtype: int64"
      ]
     },
     "execution_count": 12,
     "metadata": {},
     "output_type": "execute_result"
    }
   ],
   "source": [
    "df['work_type'].value_counts()"
   ]
  },
  {
   "cell_type": "code",
   "execution_count": 13,
   "id": "c179df4b",
   "metadata": {},
   "outputs": [],
   "source": [
    "work_type= pd.get_dummies(df['work_type'],drop_first=True)"
   ]
  },
  {
   "cell_type": "code",
   "execution_count": 14,
   "id": "4ad187c2",
   "metadata": {},
   "outputs": [
    {
     "data": {
      "text/plain": [
       "Int64Index([1, 2, 3, 4], dtype='int64')"
      ]
     },
     "execution_count": 14,
     "metadata": {},
     "output_type": "execute_result"
    }
   ],
   "source": [
    "work_type.columns"
   ]
  },
  {
   "cell_type": "code",
   "execution_count": 15,
   "id": "233f702e",
   "metadata": {},
   "outputs": [],
   "source": [
    "new_column_names = {1: 'W_T_1',\n",
    "                    2: 'W_T_2',\n",
    "                    3:'W_T_3',\n",
    "                    4:'W_T_4'}"
   ]
  },
  {
   "cell_type": "code",
   "execution_count": 16,
   "id": "306f7456",
   "metadata": {},
   "outputs": [],
   "source": [
    "work_type = work_type.rename(columns=new_column_names)"
   ]
  },
  {
   "cell_type": "code",
   "execution_count": 17,
   "id": "09b0bb62",
   "metadata": {},
   "outputs": [
    {
     "data": {
      "text/html": [
       "<div>\n",
       "<style scoped>\n",
       "    .dataframe tbody tr th:only-of-type {\n",
       "        vertical-align: middle;\n",
       "    }\n",
       "\n",
       "    .dataframe tbody tr th {\n",
       "        vertical-align: top;\n",
       "    }\n",
       "\n",
       "    .dataframe thead th {\n",
       "        text-align: right;\n",
       "    }\n",
       "</style>\n",
       "<table border=\"1\" class=\"dataframe\">\n",
       "  <thead>\n",
       "    <tr style=\"text-align: right;\">\n",
       "      <th></th>\n",
       "      <th>W_T_1</th>\n",
       "      <th>W_T_2</th>\n",
       "      <th>W_T_3</th>\n",
       "      <th>W_T_4</th>\n",
       "    </tr>\n",
       "  </thead>\n",
       "  <tbody>\n",
       "    <tr>\n",
       "      <th>0</th>\n",
       "      <td>0</td>\n",
       "      <td>1</td>\n",
       "      <td>0</td>\n",
       "      <td>0</td>\n",
       "    </tr>\n",
       "    <tr>\n",
       "      <th>1</th>\n",
       "      <td>0</td>\n",
       "      <td>0</td>\n",
       "      <td>1</td>\n",
       "      <td>0</td>\n",
       "    </tr>\n",
       "    <tr>\n",
       "      <th>2</th>\n",
       "      <td>0</td>\n",
       "      <td>1</td>\n",
       "      <td>0</td>\n",
       "      <td>0</td>\n",
       "    </tr>\n",
       "    <tr>\n",
       "      <th>3</th>\n",
       "      <td>0</td>\n",
       "      <td>1</td>\n",
       "      <td>0</td>\n",
       "      <td>0</td>\n",
       "    </tr>\n",
       "    <tr>\n",
       "      <th>4</th>\n",
       "      <td>0</td>\n",
       "      <td>0</td>\n",
       "      <td>1</td>\n",
       "      <td>0</td>\n",
       "    </tr>\n",
       "    <tr>\n",
       "      <th>...</th>\n",
       "      <td>...</td>\n",
       "      <td>...</td>\n",
       "      <td>...</td>\n",
       "      <td>...</td>\n",
       "    </tr>\n",
       "    <tr>\n",
       "      <th>5105</th>\n",
       "      <td>0</td>\n",
       "      <td>1</td>\n",
       "      <td>0</td>\n",
       "      <td>0</td>\n",
       "    </tr>\n",
       "    <tr>\n",
       "      <th>5106</th>\n",
       "      <td>0</td>\n",
       "      <td>0</td>\n",
       "      <td>1</td>\n",
       "      <td>0</td>\n",
       "    </tr>\n",
       "    <tr>\n",
       "      <th>5107</th>\n",
       "      <td>0</td>\n",
       "      <td>0</td>\n",
       "      <td>1</td>\n",
       "      <td>0</td>\n",
       "    </tr>\n",
       "    <tr>\n",
       "      <th>5108</th>\n",
       "      <td>0</td>\n",
       "      <td>1</td>\n",
       "      <td>0</td>\n",
       "      <td>0</td>\n",
       "    </tr>\n",
       "    <tr>\n",
       "      <th>5109</th>\n",
       "      <td>0</td>\n",
       "      <td>0</td>\n",
       "      <td>0</td>\n",
       "      <td>0</td>\n",
       "    </tr>\n",
       "  </tbody>\n",
       "</table>\n",
       "<p>5110 rows × 4 columns</p>\n",
       "</div>"
      ],
      "text/plain": [
       "      W_T_1  W_T_2  W_T_3  W_T_4\n",
       "0         0      1      0      0\n",
       "1         0      0      1      0\n",
       "2         0      1      0      0\n",
       "3         0      1      0      0\n",
       "4         0      0      1      0\n",
       "...     ...    ...    ...    ...\n",
       "5105      0      1      0      0\n",
       "5106      0      0      1      0\n",
       "5107      0      0      1      0\n",
       "5108      0      1      0      0\n",
       "5109      0      0      0      0\n",
       "\n",
       "[5110 rows x 4 columns]"
      ]
     },
     "execution_count": 17,
     "metadata": {},
     "output_type": "execute_result"
    }
   ],
   "source": [
    "work_type"
   ]
  },
  {
   "cell_type": "code",
   "execution_count": 18,
   "id": "de5ffc5c",
   "metadata": {},
   "outputs": [],
   "source": [
    "df = pd.concat([df, work_type], axis=1)\n",
    "df = df.drop('work_type', axis=1)"
   ]
  },
  {
   "cell_type": "code",
   "execution_count": 19,
   "id": "32ae36f6",
   "metadata": {},
   "outputs": [
    {
     "data": {
      "text/html": [
       "<div>\n",
       "<style scoped>\n",
       "    .dataframe tbody tr th:only-of-type {\n",
       "        vertical-align: middle;\n",
       "    }\n",
       "\n",
       "    .dataframe tbody tr th {\n",
       "        vertical-align: top;\n",
       "    }\n",
       "\n",
       "    .dataframe thead th {\n",
       "        text-align: right;\n",
       "    }\n",
       "</style>\n",
       "<table border=\"1\" class=\"dataframe\">\n",
       "  <thead>\n",
       "    <tr style=\"text-align: right;\">\n",
       "      <th></th>\n",
       "      <th>gender</th>\n",
       "      <th>age</th>\n",
       "      <th>hypertension</th>\n",
       "      <th>heart_disease</th>\n",
       "      <th>ever_married</th>\n",
       "      <th>avg_glucose_level</th>\n",
       "      <th>bmi</th>\n",
       "      <th>clusters</th>\n",
       "      <th>W_T_1</th>\n",
       "      <th>W_T_2</th>\n",
       "      <th>W_T_3</th>\n",
       "      <th>W_T_4</th>\n",
       "    </tr>\n",
       "  </thead>\n",
       "  <tbody>\n",
       "    <tr>\n",
       "      <th>0</th>\n",
       "      <td>1</td>\n",
       "      <td>67.0</td>\n",
       "      <td>0</td>\n",
       "      <td>1</td>\n",
       "      <td>1</td>\n",
       "      <td>228.69</td>\n",
       "      <td>36.600000</td>\n",
       "      <td>2</td>\n",
       "      <td>0</td>\n",
       "      <td>1</td>\n",
       "      <td>0</td>\n",
       "      <td>0</td>\n",
       "    </tr>\n",
       "    <tr>\n",
       "      <th>1</th>\n",
       "      <td>0</td>\n",
       "      <td>61.0</td>\n",
       "      <td>0</td>\n",
       "      <td>0</td>\n",
       "      <td>1</td>\n",
       "      <td>202.21</td>\n",
       "      <td>28.893237</td>\n",
       "      <td>0</td>\n",
       "      <td>0</td>\n",
       "      <td>0</td>\n",
       "      <td>1</td>\n",
       "      <td>0</td>\n",
       "    </tr>\n",
       "    <tr>\n",
       "      <th>2</th>\n",
       "      <td>1</td>\n",
       "      <td>80.0</td>\n",
       "      <td>0</td>\n",
       "      <td>1</td>\n",
       "      <td>1</td>\n",
       "      <td>105.92</td>\n",
       "      <td>32.500000</td>\n",
       "      <td>2</td>\n",
       "      <td>0</td>\n",
       "      <td>1</td>\n",
       "      <td>0</td>\n",
       "      <td>0</td>\n",
       "    </tr>\n",
       "    <tr>\n",
       "      <th>3</th>\n",
       "      <td>0</td>\n",
       "      <td>49.0</td>\n",
       "      <td>0</td>\n",
       "      <td>0</td>\n",
       "      <td>1</td>\n",
       "      <td>171.23</td>\n",
       "      <td>34.400000</td>\n",
       "      <td>0</td>\n",
       "      <td>0</td>\n",
       "      <td>1</td>\n",
       "      <td>0</td>\n",
       "      <td>0</td>\n",
       "    </tr>\n",
       "    <tr>\n",
       "      <th>4</th>\n",
       "      <td>0</td>\n",
       "      <td>79.0</td>\n",
       "      <td>1</td>\n",
       "      <td>0</td>\n",
       "      <td>1</td>\n",
       "      <td>174.12</td>\n",
       "      <td>24.000000</td>\n",
       "      <td>3</td>\n",
       "      <td>0</td>\n",
       "      <td>0</td>\n",
       "      <td>1</td>\n",
       "      <td>0</td>\n",
       "    </tr>\n",
       "    <tr>\n",
       "      <th>...</th>\n",
       "      <td>...</td>\n",
       "      <td>...</td>\n",
       "      <td>...</td>\n",
       "      <td>...</td>\n",
       "      <td>...</td>\n",
       "      <td>...</td>\n",
       "      <td>...</td>\n",
       "      <td>...</td>\n",
       "      <td>...</td>\n",
       "      <td>...</td>\n",
       "      <td>...</td>\n",
       "      <td>...</td>\n",
       "    </tr>\n",
       "    <tr>\n",
       "      <th>5105</th>\n",
       "      <td>0</td>\n",
       "      <td>80.0</td>\n",
       "      <td>1</td>\n",
       "      <td>0</td>\n",
       "      <td>1</td>\n",
       "      <td>83.75</td>\n",
       "      <td>28.893237</td>\n",
       "      <td>3</td>\n",
       "      <td>0</td>\n",
       "      <td>1</td>\n",
       "      <td>0</td>\n",
       "      <td>0</td>\n",
       "    </tr>\n",
       "    <tr>\n",
       "      <th>5106</th>\n",
       "      <td>0</td>\n",
       "      <td>81.0</td>\n",
       "      <td>0</td>\n",
       "      <td>0</td>\n",
       "      <td>1</td>\n",
       "      <td>125.20</td>\n",
       "      <td>40.000000</td>\n",
       "      <td>0</td>\n",
       "      <td>0</td>\n",
       "      <td>0</td>\n",
       "      <td>1</td>\n",
       "      <td>0</td>\n",
       "    </tr>\n",
       "    <tr>\n",
       "      <th>5107</th>\n",
       "      <td>0</td>\n",
       "      <td>35.0</td>\n",
       "      <td>0</td>\n",
       "      <td>0</td>\n",
       "      <td>1</td>\n",
       "      <td>82.99</td>\n",
       "      <td>30.600000</td>\n",
       "      <td>0</td>\n",
       "      <td>0</td>\n",
       "      <td>0</td>\n",
       "      <td>1</td>\n",
       "      <td>0</td>\n",
       "    </tr>\n",
       "    <tr>\n",
       "      <th>5108</th>\n",
       "      <td>1</td>\n",
       "      <td>51.0</td>\n",
       "      <td>0</td>\n",
       "      <td>0</td>\n",
       "      <td>1</td>\n",
       "      <td>166.29</td>\n",
       "      <td>25.600000</td>\n",
       "      <td>0</td>\n",
       "      <td>0</td>\n",
       "      <td>1</td>\n",
       "      <td>0</td>\n",
       "      <td>0</td>\n",
       "    </tr>\n",
       "    <tr>\n",
       "      <th>5109</th>\n",
       "      <td>0</td>\n",
       "      <td>44.0</td>\n",
       "      <td>0</td>\n",
       "      <td>0</td>\n",
       "      <td>1</td>\n",
       "      <td>85.28</td>\n",
       "      <td>26.200000</td>\n",
       "      <td>0</td>\n",
       "      <td>0</td>\n",
       "      <td>0</td>\n",
       "      <td>0</td>\n",
       "      <td>0</td>\n",
       "    </tr>\n",
       "  </tbody>\n",
       "</table>\n",
       "<p>5110 rows × 12 columns</p>\n",
       "</div>"
      ],
      "text/plain": [
       "      gender   age  hypertension  heart_disease  ever_married  \\\n",
       "0          1  67.0             0              1             1   \n",
       "1          0  61.0             0              0             1   \n",
       "2          1  80.0             0              1             1   \n",
       "3          0  49.0             0              0             1   \n",
       "4          0  79.0             1              0             1   \n",
       "...      ...   ...           ...            ...           ...   \n",
       "5105       0  80.0             1              0             1   \n",
       "5106       0  81.0             0              0             1   \n",
       "5107       0  35.0             0              0             1   \n",
       "5108       1  51.0             0              0             1   \n",
       "5109       0  44.0             0              0             1   \n",
       "\n",
       "      avg_glucose_level        bmi  clusters  W_T_1  W_T_2  W_T_3  W_T_4  \n",
       "0                228.69  36.600000         2      0      1      0      0  \n",
       "1                202.21  28.893237         0      0      0      1      0  \n",
       "2                105.92  32.500000         2      0      1      0      0  \n",
       "3                171.23  34.400000         0      0      1      0      0  \n",
       "4                174.12  24.000000         3      0      0      1      0  \n",
       "...                 ...        ...       ...    ...    ...    ...    ...  \n",
       "5105              83.75  28.893237         3      0      1      0      0  \n",
       "5106             125.20  40.000000         0      0      0      1      0  \n",
       "5107              82.99  30.600000         0      0      0      1      0  \n",
       "5108             166.29  25.600000         0      0      1      0      0  \n",
       "5109              85.28  26.200000         0      0      0      0      0  \n",
       "\n",
       "[5110 rows x 12 columns]"
      ]
     },
     "execution_count": 19,
     "metadata": {},
     "output_type": "execute_result"
    }
   ],
   "source": [
    "df\n"
   ]
  },
  {
   "cell_type": "markdown",
   "id": "10e008f3",
   "metadata": {},
   "source": [
    "\n",
    "- Created dummy variables for the 'work_type' column using `pd.get_dummies()`, with the parameter `drop_first=True` to drop the first column of the resulting dummy variables to avoid multicollinearity.\n",
    "- Renamed the resulting columns using a dictionary that maps integers to new column names.\n",
    "- Appended the new `work_type` columns to 'df' using `pd.concat()`.\n",
    "- Droped the original `work_type` column from the dataframe using `df.drop()`."
   ]
  },
  {
   "cell_type": "markdown",
   "id": "bce9bf18",
   "metadata": {},
   "source": [
    "\n",
    "\n",
    "Scale the data for further processing. "
   ]
  },
  {
   "cell_type": "code",
   "execution_count": 20,
   "id": "a776727f",
   "metadata": {},
   "outputs": [],
   "source": [
    "from sklearn.preprocessing import StandardScaler\n",
    "\n",
    "# create a scaler object\n",
    "scaler = StandardScaler()\n",
    "\n",
    "# fit the scaler to the age, bmi, and avg_glucose_level columns\n",
    "scaler.fit(df[['age', 'bmi', 'avg_glucose_level']])\n",
    "\n",
    "# transform the age, bmi, and avg_glucose_level columns using the scaler\n",
    "df[['age', 'bmi', 'avg_glucose_level']] = scaler.transform(df[['age', 'bmi', 'avg_glucose_level']])\n"
   ]
  },
  {
   "cell_type": "code",
   "execution_count": 21,
   "id": "6359ace1",
   "metadata": {},
   "outputs": [
    {
     "data": {
      "text/html": [
       "<div>\n",
       "<style scoped>\n",
       "    .dataframe tbody tr th:only-of-type {\n",
       "        vertical-align: middle;\n",
       "    }\n",
       "\n",
       "    .dataframe tbody tr th {\n",
       "        vertical-align: top;\n",
       "    }\n",
       "\n",
       "    .dataframe thead th {\n",
       "        text-align: right;\n",
       "    }\n",
       "</style>\n",
       "<table border=\"1\" class=\"dataframe\">\n",
       "  <thead>\n",
       "    <tr style=\"text-align: right;\">\n",
       "      <th></th>\n",
       "      <th>gender</th>\n",
       "      <th>age</th>\n",
       "      <th>hypertension</th>\n",
       "      <th>heart_disease</th>\n",
       "      <th>ever_married</th>\n",
       "      <th>avg_glucose_level</th>\n",
       "      <th>bmi</th>\n",
       "      <th>clusters</th>\n",
       "      <th>W_T_1</th>\n",
       "      <th>W_T_2</th>\n",
       "      <th>W_T_3</th>\n",
       "      <th>W_T_4</th>\n",
       "    </tr>\n",
       "  </thead>\n",
       "  <tbody>\n",
       "    <tr>\n",
       "      <th>0</th>\n",
       "      <td>1</td>\n",
       "      <td>1.051434</td>\n",
       "      <td>0</td>\n",
       "      <td>1</td>\n",
       "      <td>1</td>\n",
       "      <td>2.706375</td>\n",
       "      <td>1.001234e+00</td>\n",
       "      <td>2</td>\n",
       "      <td>0</td>\n",
       "      <td>1</td>\n",
       "      <td>0</td>\n",
       "      <td>0</td>\n",
       "    </tr>\n",
       "    <tr>\n",
       "      <th>1</th>\n",
       "      <td>0</td>\n",
       "      <td>0.786070</td>\n",
       "      <td>0</td>\n",
       "      <td>0</td>\n",
       "      <td>1</td>\n",
       "      <td>2.121559</td>\n",
       "      <td>1.846221e-15</td>\n",
       "      <td>0</td>\n",
       "      <td>0</td>\n",
       "      <td>0</td>\n",
       "      <td>1</td>\n",
       "      <td>0</td>\n",
       "    </tr>\n",
       "    <tr>\n",
       "      <th>2</th>\n",
       "      <td>1</td>\n",
       "      <td>1.626390</td>\n",
       "      <td>0</td>\n",
       "      <td>1</td>\n",
       "      <td>1</td>\n",
       "      <td>-0.005028</td>\n",
       "      <td>4.685773e-01</td>\n",
       "      <td>2</td>\n",
       "      <td>0</td>\n",
       "      <td>1</td>\n",
       "      <td>0</td>\n",
       "      <td>0</td>\n",
       "    </tr>\n",
       "    <tr>\n",
       "      <th>3</th>\n",
       "      <td>0</td>\n",
       "      <td>0.255342</td>\n",
       "      <td>0</td>\n",
       "      <td>0</td>\n",
       "      <td>1</td>\n",
       "      <td>1.437358</td>\n",
       "      <td>7.154182e-01</td>\n",
       "      <td>0</td>\n",
       "      <td>0</td>\n",
       "      <td>1</td>\n",
       "      <td>0</td>\n",
       "      <td>0</td>\n",
       "    </tr>\n",
       "    <tr>\n",
       "      <th>4</th>\n",
       "      <td>0</td>\n",
       "      <td>1.582163</td>\n",
       "      <td>1</td>\n",
       "      <td>0</td>\n",
       "      <td>1</td>\n",
       "      <td>1.501184</td>\n",
       "      <td>-6.357112e-01</td>\n",
       "      <td>3</td>\n",
       "      <td>0</td>\n",
       "      <td>0</td>\n",
       "      <td>1</td>\n",
       "      <td>0</td>\n",
       "    </tr>\n",
       "    <tr>\n",
       "      <th>...</th>\n",
       "      <td>...</td>\n",
       "      <td>...</td>\n",
       "      <td>...</td>\n",
       "      <td>...</td>\n",
       "      <td>...</td>\n",
       "      <td>...</td>\n",
       "      <td>...</td>\n",
       "      <td>...</td>\n",
       "      <td>...</td>\n",
       "      <td>...</td>\n",
       "      <td>...</td>\n",
       "      <td>...</td>\n",
       "    </tr>\n",
       "    <tr>\n",
       "      <th>5105</th>\n",
       "      <td>0</td>\n",
       "      <td>1.626390</td>\n",
       "      <td>1</td>\n",
       "      <td>0</td>\n",
       "      <td>1</td>\n",
       "      <td>-0.494658</td>\n",
       "      <td>1.846221e-15</td>\n",
       "      <td>3</td>\n",
       "      <td>0</td>\n",
       "      <td>1</td>\n",
       "      <td>0</td>\n",
       "      <td>0</td>\n",
       "    </tr>\n",
       "    <tr>\n",
       "      <th>5106</th>\n",
       "      <td>0</td>\n",
       "      <td>1.670617</td>\n",
       "      <td>0</td>\n",
       "      <td>0</td>\n",
       "      <td>1</td>\n",
       "      <td>0.420775</td>\n",
       "      <td>1.442949e+00</td>\n",
       "      <td>0</td>\n",
       "      <td>0</td>\n",
       "      <td>0</td>\n",
       "      <td>1</td>\n",
       "      <td>0</td>\n",
       "    </tr>\n",
       "    <tr>\n",
       "      <th>5107</th>\n",
       "      <td>0</td>\n",
       "      <td>-0.363842</td>\n",
       "      <td>0</td>\n",
       "      <td>0</td>\n",
       "      <td>1</td>\n",
       "      <td>-0.511443</td>\n",
       "      <td>2.217363e-01</td>\n",
       "      <td>0</td>\n",
       "      <td>0</td>\n",
       "      <td>0</td>\n",
       "      <td>1</td>\n",
       "      <td>0</td>\n",
       "    </tr>\n",
       "    <tr>\n",
       "      <th>5108</th>\n",
       "      <td>1</td>\n",
       "      <td>0.343796</td>\n",
       "      <td>0</td>\n",
       "      <td>0</td>\n",
       "      <td>1</td>\n",
       "      <td>1.328257</td>\n",
       "      <td>-4.278451e-01</td>\n",
       "      <td>0</td>\n",
       "      <td>0</td>\n",
       "      <td>1</td>\n",
       "      <td>0</td>\n",
       "      <td>0</td>\n",
       "    </tr>\n",
       "    <tr>\n",
       "      <th>5109</th>\n",
       "      <td>0</td>\n",
       "      <td>0.034205</td>\n",
       "      <td>0</td>\n",
       "      <td>0</td>\n",
       "      <td>1</td>\n",
       "      <td>-0.460867</td>\n",
       "      <td>-3.498953e-01</td>\n",
       "      <td>0</td>\n",
       "      <td>0</td>\n",
       "      <td>0</td>\n",
       "      <td>0</td>\n",
       "      <td>0</td>\n",
       "    </tr>\n",
       "  </tbody>\n",
       "</table>\n",
       "<p>5110 rows × 12 columns</p>\n",
       "</div>"
      ],
      "text/plain": [
       "      gender       age  hypertension  heart_disease  ever_married  \\\n",
       "0          1  1.051434             0              1             1   \n",
       "1          0  0.786070             0              0             1   \n",
       "2          1  1.626390             0              1             1   \n",
       "3          0  0.255342             0              0             1   \n",
       "4          0  1.582163             1              0             1   \n",
       "...      ...       ...           ...            ...           ...   \n",
       "5105       0  1.626390             1              0             1   \n",
       "5106       0  1.670617             0              0             1   \n",
       "5107       0 -0.363842             0              0             1   \n",
       "5108       1  0.343796             0              0             1   \n",
       "5109       0  0.034205             0              0             1   \n",
       "\n",
       "      avg_glucose_level           bmi  clusters  W_T_1  W_T_2  W_T_3  W_T_4  \n",
       "0              2.706375  1.001234e+00         2      0      1      0      0  \n",
       "1              2.121559  1.846221e-15         0      0      0      1      0  \n",
       "2             -0.005028  4.685773e-01         2      0      1      0      0  \n",
       "3              1.437358  7.154182e-01         0      0      1      0      0  \n",
       "4              1.501184 -6.357112e-01         3      0      0      1      0  \n",
       "...                 ...           ...       ...    ...    ...    ...    ...  \n",
       "5105          -0.494658  1.846221e-15         3      0      1      0      0  \n",
       "5106           0.420775  1.442949e+00         0      0      0      1      0  \n",
       "5107          -0.511443  2.217363e-01         0      0      0      1      0  \n",
       "5108           1.328257 -4.278451e-01         0      0      1      0      0  \n",
       "5109          -0.460867 -3.498953e-01         0      0      0      0      0  \n",
       "\n",
       "[5110 rows x 12 columns]"
      ]
     },
     "execution_count": 21,
     "metadata": {},
     "output_type": "execute_result"
    }
   ],
   "source": [
    "df"
   ]
  },
  {
   "cell_type": "code",
   "execution_count": 22,
   "id": "fe9e0fe1",
   "metadata": {},
   "outputs": [],
   "source": [
    "df=df.drop('clusters', axis=1)"
   ]
  },
  {
   "cell_type": "markdown",
   "id": "051e03ca",
   "metadata": {},
   "source": [
    "Imported the StandardScaler class from the Scikit-learn library, which is used to scale numerical data. It then creates a StandardScaler object called 'scaler' and fits it to the 'age', 'bmi', and 'avg_glucose_level' columns of the 'df' DataFrame. The 'fit' method computes the mean and standard deviation of the data in the columns. The 'transform' method is then called to scale the data in these columns. Finally, the scaled data is assigned back to the original columns in the 'df' DataFrame. This step is important because the KMeans algorithm works better when the data is centered around zero and has the same variance in each feature."
   ]
  },
  {
   "cell_type": "markdown",
   "id": "8bb11ea5",
   "metadata": {},
   "source": [
    " using the elbow method to determine the optimal number of clusters for k-means clustering.\n",
    "\n",
    "We need some way to determine whether we are using the right number of clusters when using k-means clustering. One method to validate the number of clusters is the elbow method.\n",
    "\n",
    "Performed the elbow method for k from 2 to 7 and plot a line chart of the SSE for each value of k, and determine the best k (the number of clusters). \n"
   ]
  },
  {
   "cell_type": "code",
   "execution_count": 23,
   "id": "aea3af90",
   "metadata": {},
   "outputs": [
    {
     "data": {
      "image/png": "[encoded data removed]",
      "text/plain": [
       "<Figure size 432x288 with 1 Axes>"
      ]
     },
     "metadata": {
      "needs_background": "light"
     },
     "output_type": "display_data"
    }
   ],
   "source": [
    "from sklearn.cluster import KMeans\n",
    "import matplotlib.pyplot as plt\n",
    "\n",
    "# create a list to store the SSE values for each value of k\n",
    "sse = []\n",
    "\n",
    "# fit a k-means clustering model for each value of k from 2 to 7\n",
    "for k in range(2, 8):\n",
    "    kmeans = KMeans(n_clusters=k, random_state=42)\n",
    "    kmeans.fit(df)\n",
    "    sse.append(kmeans.inertia_)\n",
    "\n",
    "# plot the SSE values for each value of k\n",
    "plt.plot(range(2, 8), sse, marker='o')\n",
    "plt.xlabel('Number of clusters (k)')\n",
    "plt.ylabel('SSE')\n",
    "plt.show()"
   ]
  },
  {
   "cell_type": "markdown",
   "id": "c1f3a540",
   "metadata": {},
   "source": [
    "After importing the necessary libraries - KMeans from sklearn.cluster and matplotlib.pyplot. It then initializes an empty list sse to store the SSE values for each k value.\n",
    "\n",
    "A for loop is used to fit a KMeans clustering model for each k value from 2 to 7. The KMeans function is called with n_clusters=k and random_state=42 (for reproducibility). The fit method is called on the data, and the SSE value is obtained using the inertia_ attribute of the KMeans object. The SSE value is then appended to the sse list.\n",
    "\n",
    "Finally, a line plot is created using plt.plot with x-axis values as range(2, 8) and y-axis values as the sse list. marker='o' is used to mark the data points on the plot, and xlabel and ylabel are used to label the axes. The plot is displayed using plt.show().\n",
    "\n",
    "This plot can help us visualize the \"elbow point\" or the point at which the SSE starts decreasing at a slower rate. This point is usually considered as the optimal number of clusters for the given dataset.\n",
    "\n",
    "\n",
    "\n",
    "\n"
   ]
  },
  {
   "cell_type": "markdown",
   "id": "f8f449ce",
   "metadata": {},
   "source": [
    "\n",
    "The elbow method gives an idea for which can be the most appropriate value for k. However, for cross-checking it, we use the Silhouette score to select the most appropriate value for K.\n",
    "\n"
   ]
  },
  {
   "cell_type": "code",
   "execution_count": 24,
   "id": "723a96d0",
   "metadata": {},
   "outputs": [
    {
     "name": "stdout",
     "output_type": "stream",
     "text": [
      "Silhouette score for k=2: 0.24266081974350173\n",
      "Silhouette score for k=3: 0.2934871303727263\n",
      "Silhouette score for k=4: 0.2626885726838557\n",
      "Silhouette score for k=5: 0.24706400839285925\n",
      "Silhouette score for k=6: 0.23432345978387253\n",
      "Silhouette score for k=7: 0.2230873336764789\n"
     ]
    },
    {
     "data": {
      "image/png": "[encoded data removed]",
      "text/plain": [
       "<Figure size 432x288 with 1 Axes>"
      ]
     },
     "metadata": {
      "needs_background": "light"
     },
     "output_type": "display_data"
    }
   ],
   "source": [
    "from sklearn.metrics import silhouette_score\n",
    "\n",
    "# create a list to store the silhouette scores for each k value\n",
    "silhouette_scores = []\n",
    "\n",
    "# loop through k values from 2 to 7\n",
    "for k in range(2, 8):\n",
    "    kmeans = KMeans(n_clusters=k, random_state=42)\n",
    "    kmeans.fit(df)\n",
    "    labels = kmeans.labels_\n",
    "    score = silhouette_score(df, labels)\n",
    "    silhouette_scores.append(score)\n",
    "    print(f'Silhouette score for k={k}: {score}')\n",
    "\n",
    "# plot the silhouette scores for each k value\n",
    "plt.plot(range(2, 8), silhouette_scores, marker='o')\n",
    "plt.xlabel('Number of clusters (k)')\n",
    "plt.ylabel('Silhouette score')\n",
    "plt.title('Silhouette score vs. Number of Clusters')\n",
    "plt.show()"
   ]
  },
  {
   "cell_type": "markdown",
   "id": "dab31489",
   "metadata": {},
   "source": [
    "From the results, we can see that the silhouette score is highest for k=3, which means that the data points are more similar to their own clusters than to other clusters for k=3. Therefore, k=3 would be the best choice for this dataset."
   ]
  },
  {
   "cell_type": "markdown",
   "id": "46d1b2be",
   "metadata": {},
   "source": [
    "\n",
    "\n",
    "With the best K value use K-means algorithm on the data. Printed out the whole data along with the cluster labels assigned for each row in the form of new column."
   ]
  },
  {
   "cell_type": "code",
   "execution_count": 25,
   "id": "8cca03a5",
   "metadata": {},
   "outputs": [
    {
     "name": "stdout",
     "output_type": "stream",
     "text": [
      "      gender       age  hypertension  heart_disease  ever_married  \\\n",
      "0          1  1.051434             0              1             1   \n",
      "1          0  0.786070             0              0             1   \n",
      "2          1  1.626390             0              1             1   \n",
      "3          0  0.255342             0              0             1   \n",
      "4          0  1.582163             1              0             1   \n",
      "...      ...       ...           ...            ...           ...   \n",
      "5105       0  1.626390             1              0             1   \n",
      "5106       0  1.670617             0              0             1   \n",
      "5107       0 -0.363842             0              0             1   \n",
      "5108       1  0.343796             0              0             1   \n",
      "5109       0  0.034205             0              0             1   \n",
      "\n",
      "      avg_glucose_level           bmi  W_T_1  W_T_2  W_T_3  W_T_4  clusters_2  \n",
      "0              2.706375  1.001234e+00      0      1      0      0           0  \n",
      "1              2.121559  1.846221e-15      0      0      1      0           0  \n",
      "2             -0.005028  4.685773e-01      0      1      0      0           2  \n",
      "3              1.437358  7.154182e-01      0      1      0      0           0  \n",
      "4              1.501184 -6.357112e-01      0      0      1      0           0  \n",
      "...                 ...           ...    ...    ...    ...    ...         ...  \n",
      "5105          -0.494658  1.846221e-15      0      1      0      0           2  \n",
      "5106           0.420775  1.442949e+00      0      0      1      0           2  \n",
      "5107          -0.511443  2.217363e-01      0      0      1      0           2  \n",
      "5108           1.328257 -4.278451e-01      0      1      0      0           0  \n",
      "5109          -0.460867 -3.498953e-01      0      0      0      0           2  \n",
      "\n",
      "[5110 rows x 12 columns]\n"
     ]
    }
   ],
   "source": [
    "kmeans = KMeans(n_clusters=3, random_state=42)\n",
    "\n",
    "# fit and predict cluster labels for data\n",
    "labels = kmeans.fit_predict(df)\n",
    "\n",
    "# add new column to original DataFrame with assigned cluster labels\n",
    "df['clusters_2'] = labels\n",
    "\n",
    "# print whole data with assigned cluster labels\n",
    "print(df)"
   ]
  },
  {
   "cell_type": "markdown",
   "id": "f3cb5769",
   "metadata": {},
   "source": [
    "This code initializes the KMeans clustering algorithm with n_clusters=3 and random_state=42. It then fits the algorithm to the df dataset and assigns cluster labels to each row of the data. The assigned labels are added as a new column named \"clusters_2\" to the df DataFrame. Finally, the entire DataFrame is printed to display the original data along with the assigned cluster labels."
   ]
  },
  {
   "cell_type": "code",
   "execution_count": 26,
   "id": "9cabd6e2",
   "metadata": {},
   "outputs": [
    {
     "data": {
      "text/plain": [
       "0       0\n",
       "1       0\n",
       "2       2\n",
       "3       0\n",
       "4       0\n",
       "       ..\n",
       "5105    2\n",
       "5106    2\n",
       "5107    2\n",
       "5108    0\n",
       "5109    2\n",
       "Name: clusters_2, Length: 5110, dtype: int32"
      ]
     },
     "execution_count": 26,
     "metadata": {},
     "output_type": "execute_result"
    }
   ],
   "source": [
    "df['clusters_2']"
   ]
  },
  {
   "cell_type": "code",
   "execution_count": 27,
   "id": "c64af1ce",
   "metadata": {},
   "outputs": [
    {
     "name": "stdout",
     "output_type": "stream",
     "text": [
      "              gender       age  hypertension  heart_disease  ever_married  \\\n",
      "clusters_2                                                                  \n",
      "0           0.476395  0.776832      0.254649       0.155937      0.902718   \n",
      "1           0.437113 -1.222856      0.001375       0.001375      0.091409   \n",
      "2           0.388363  0.418217      0.107578       0.055819      0.875846   \n",
      "\n",
      "            avg_glucose_level       bmi     W_T_1     W_T_2     W_T_3  \\\n",
      "clusters_2                                                              \n",
      "0                    2.177107  0.550314  0.000000  0.602289  0.238913   \n",
      "1                   -0.278913 -0.823818  0.013746  0.435052  0.030241   \n",
      "2                   -0.377530  0.275367  0.000677  0.632950  0.205683   \n",
      "\n",
      "               W_T_4  \n",
      "clusters_2            \n",
      "0           0.001431  \n",
      "1           0.471478  \n",
      "2           0.000000  \n"
     ]
    }
   ],
   "source": [
    "cluster_means = df.groupby('clusters_2').mean()\n",
    "print(cluster_means)"
   ]
  },
  {
   "cell_type": "markdown",
   "id": "836b0ad4",
   "metadata": {},
   "source": [
    "By analyzing these results, we can observe that cluster 1 has lower values for age, average glucose level, and BMI, and has a higher proportion of patients who have never been married, compared to other clusters. Cluster 2 has higher values for age and BMI, and a higher proportion of patients who work in private jobs compared to other clusters. Cluster 0 has higher values for average glucose level and a higher proportion of patients who work in self-employed jobs. These observations can help healthcare professionals to better understand patient populations and tailor their treatments accordingly."
   ]
  },
  {
   "cell_type": "markdown",
   "id": "7e72d7f9",
   "metadata": {},
   "source": [
    " ## Hierarchical Clustering"
   ]
  },
  {
   "cell_type": "code",
   "execution_count": 28,
   "id": "a37bd72e",
   "metadata": {},
   "outputs": [
    {
     "data": {
      "text/html": [
       "<div>\n",
       "<style scoped>\n",
       "    .dataframe tbody tr th:only-of-type {\n",
       "        vertical-align: middle;\n",
       "    }\n",
       "\n",
       "    .dataframe tbody tr th {\n",
       "        vertical-align: top;\n",
       "    }\n",
       "\n",
       "    .dataframe thead th {\n",
       "        text-align: right;\n",
       "    }\n",
       "</style>\n",
       "<table border=\"1\" class=\"dataframe\">\n",
       "  <thead>\n",
       "    <tr style=\"text-align: right;\">\n",
       "      <th></th>\n",
       "      <th>X</th>\n",
       "      <th>Y</th>\n",
       "    </tr>\n",
       "  </thead>\n",
       "  <tbody>\n",
       "    <tr>\n",
       "      <th>0</th>\n",
       "      <td>0.816805</td>\n",
       "      <td>0.521645</td>\n",
       "    </tr>\n",
       "    <tr>\n",
       "      <th>1</th>\n",
       "      <td>1.618596</td>\n",
       "      <td>-0.379829</td>\n",
       "    </tr>\n",
       "    <tr>\n",
       "      <th>2</th>\n",
       "      <td>-0.021270</td>\n",
       "      <td>0.273728</td>\n",
       "    </tr>\n",
       "    <tr>\n",
       "      <th>3</th>\n",
       "      <td>-1.021810</td>\n",
       "      <td>-0.075440</td>\n",
       "    </tr>\n",
       "    <tr>\n",
       "      <th>4</th>\n",
       "      <td>1.766546</td>\n",
       "      <td>-0.170699</td>\n",
       "    </tr>\n",
       "  </tbody>\n",
       "</table>\n",
       "</div>"
      ],
      "text/plain": [
       "          X         Y\n",
       "0  0.816805  0.521645\n",
       "1  1.618596 -0.379829\n",
       "2 -0.021270  0.273728\n",
       "3 -1.021810 -0.075440\n",
       "4  1.766546 -0.170699"
      ]
     },
     "execution_count": 28,
     "metadata": {},
     "output_type": "execute_result"
    }
   ],
   "source": [
    "import pandas as pd\n",
    "\n",
    "data = pd.read_csv(\"hierarchical_data.csv\")\n",
    "data.head()"
   ]
  },
  {
   "cell_type": "markdown",
   "id": "e7958c4b",
   "metadata": {},
   "source": [
    "\n",
    "Ploted the co-ordinates from the imported data "
   ]
  },
  {
   "cell_type": "code",
   "execution_count": 29,
   "id": "d7050ab6",
   "metadata": {},
   "outputs": [
    {
     "data": {
      "image/png": "[encoded data removed]",
      "text/plain": [
       "<Figure size 432x288 with 1 Axes>"
      ]
     },
     "metadata": {
      "needs_background": "light"
     },
     "output_type": "display_data"
    }
   ],
   "source": [
    "import matplotlib.pyplot as plt\n",
    "plt.scatter(data['X'], data['Y'])\n",
    "plt.xlabel('X')\n",
    "plt.ylabel('Y')\n",
    "plt.show()"
   ]
  },
  {
   "cell_type": "markdown",
   "id": "22f33ed1",
   "metadata": {},
   "source": [
    "From the plot we can see that two clusters in the data. one in the top right quadrant and another in the bottom left quadrant."
   ]
  },
  {
   "cell_type": "markdown",
   "id": "9f4ca30c",
   "metadata": {},
   "source": []
  },
  {
   "cell_type": "code",
   "execution_count": 31,
   "id": "5a23f38d",
   "metadata": {},
   "outputs": [
    {
     "data": {
      "image/png": "[encoded data removed]",
      "text/plain": [
       "<Figure size 504x288 with 1 Axes>"
      ]
     },
     "metadata": {
      "needs_background": "light"
     },
     "output_type": "display_data"
    },
    {
     "data": {
      "image/png": "[encoded data removed]",
      "text/plain": [
       "<Figure size 504x288 with 1 Axes>"
      ]
     },
     "metadata": {
      "needs_background": "light"
     },
     "output_type": "display_data"
    },
    {
     "data": {
      "image/png": "[encoded data removed]",
      "text/plain": [
       "<Figure size 504x288 with 1 Axes>"
      ]
     },
     "metadata": {
      "needs_background": "light"
     },
     "output_type": "display_data"
    },
    {
     "data": {
      "image/png": "[encoded data removed]",
      "text/plain": [
       "<Figure size 504x288 with 1 Axes>"
      ]
     },
     "metadata": {
      "needs_background": "light"
     },
     "output_type": "display_data"
    }
   ],
   "source": [
    "from scipy.cluster.hierarchy import dendrogram, linkage\n",
    "# perform hierarchical clustering with Euclidean distance and average linkage\n",
    "Z_euc_avg = linkage(data, method='average', metric='euclidean')\n",
    "\n",
    "# plot the dendrogram for cluster 2\n",
    "plt.figure(figsize=(7, 4))\n",
    "dendrogram(Z_euc_avg, truncate_mode='lastp', p=2)\n",
    "plt.title('Dendrogram for Hierarchical Clustering with Euclidean Distance and Average Linkage (2 clusters)')\n",
    "plt.xlabel('Data points')\n",
    "plt.ylabel('Distance')\n",
    "plt.show()\n",
    "\n",
    "# plot the dendrogram for cluster 3\n",
    "plt.figure(figsize=(7, 4))\n",
    "dendrogram(Z_euc_avg, truncate_mode='lastp', p=3)\n",
    "plt.title('Dendrogram for Hierarchical Clustering with Euclidean Distance and Average Linkage (3 clusters)')\n",
    "plt.xlabel('Data points')\n",
    "plt.ylabel('Distance')\n",
    "plt.show()\n",
    "\n",
    "\n",
    "# perform hierarchical clustering with Manhattan distance and average linkage\n",
    "Z_man_avg = linkage(data, method='average', metric='cityblock')\n",
    "\n",
    "# plot the dendrogram for cluster 2\n",
    "plt.figure(figsize=(7, 4))\n",
    "dendrogram(Z_man_avg, truncate_mode='lastp', p=2)\n",
    "plt.title('Dendrogram for Hierarchical Clustering with Manhattan Distance and Average Linkage (2 clusters)')\n",
    "plt.xlabel('Data points')\n",
    "plt.ylabel('Distance')\n",
    "plt.show()\n",
    "\n",
    "# plot the dendrogram for cluster 3\n",
    "plt.figure(figsize=(7, 4))\n",
    "dendrogram(Z_man_avg, truncate_mode='lastp', p=3)\n",
    "plt.title('Dendrogram for Hierarchical Clustering with Manhattan Distance and Average Linkage (3 clusters)')\n",
    "plt.xlabel('Data points')\n",
    "plt.ylabel('Distance')\n",
    "plt.show()"
   ]
  },
  {
   "cell_type": "markdown",
   "id": "df6647bf",
   "metadata": {},
   "source": [
    "In general, the dendrogram shows the hierarchy of how the data is clustered. The x-axis represents the individual data points, while the y-axis represents the distance between them. The height of each vertical line in the dendrogram represents the distance between the clusters being merged.\n",
    "\n",
    "Euclidean Distance with average linkage\n",
    "For 2 clusters,This split seems reasonable as there is a clear gap between the two groups in the scatter plot. \n",
    "For 3 clusters, The split is less clear compared to the 2-cluster case, and the third cluster seems to consist of the points on the border of the two main clusters. \n",
    "\n",
    "Manhattan Distance with average linkage\n",
    "For 2 clusters, This split seems reasonable as there is a clear gap between the two groups in the scatter plot. \n",
    "For 3 clusters, The split is similar to the one obtained with Euclidean distance and average linkage, but the order of the groups is different."
   ]
  },
  {
   "cell_type": "markdown",
   "id": "86d2c702",
   "metadata": {},
   "source": [
    "\n",
    "\n",
    "\n",
    "Apply spectral clustering on the data for k=2 and plot the results."
   ]
  },
  {
   "cell_type": "code",
   "execution_count": 32,
   "id": "ebe1ccf7",
   "metadata": {},
   "outputs": [
    {
     "name": "stderr",
     "output_type": "stream",
     "text": [
      "/Library/Frameworks/Python.framework/Versions/3.7/lib/python3.7/site-packages/sklearn/manifold/_spectral_embedding.py:261: UserWarning: Graph is not fully connected, spectral embedding may not work as expected.\n",
      "  \"Graph is not fully connected, spectral embedding may not work as expected.\"\n"
     ]
    },
    {
     "data": {
      "image/png": "[encoded data removed]",
      "text/plain": [
       "<Figure size 432x288 with 1 Axes>"
      ]
     },
     "metadata": {
      "needs_background": "light"
     },
     "output_type": "display_data"
    }
   ],
   "source": [
    "from sklearn.cluster import SpectralClustering\n",
    "model = SpectralClustering(n_clusters=2, affinity='nearest_neighbors', assign_labels='kmeans')\n",
    "labels = model.fit_predict(data)\n",
    "\n",
    "# plot the results\n",
    "plt.scatter(data.iloc[:, 0], data.iloc[:, 1], c=labels, cmap='viridis')\n",
    "plt.title('Spectral Clustering with k=2')\n",
    "plt.show()"
   ]
  },
  {
   "cell_type": "markdown",
   "id": "7d2052df",
   "metadata": {},
   "source": [
    "We can see that spectral clustering also successfully separated the data into two clusters, which are similar to the clusters formed by hierarchical clustering with Euclidean distance and average linkage. However, the boundary between the clusters is not as well-defined as in the hierarchical clustering result."
   ]
  },
  {
   "cell_type": "code",
   "execution_count": 33,
   "id": "fd09c977",
   "metadata": {},
   "outputs": [
    {
     "data": {
      "image/png": "[encoded data removed]",
      "text/plain": [
       "<Figure size 720x360 with 1 Axes>"
      ]
     },
     "metadata": {
      "needs_background": "light"
     },
     "output_type": "display_data"
    }
   ],
   "source": [
    "from scipy.cluster.hierarchy import dendrogram, linkage\n",
    "Z = linkage(data, method='ward', metric='euclidean')\n",
    "\n",
    "# plot the dendrogram\n",
    "plt.figure(figsize=(10, 5))\n",
    "dendrogram(Z, truncate_mode='lastp', p=10, show_contracted=True)\n",
    "plt.xlabel('Data Points')\n",
    "plt.ylabel('Distance')\n",
    "plt.title('Dendrogram')\n",
    "\n",
    "# plot the line for k clusters\n",
    "k = 2 # change this to your selected value of k\n",
    "plt.axhline(y=Z[-k+1, 2], c='gray', ls='--', lw=2)\n",
    "plt.text(0.95, Z[-k+1, 2], f' k = {k} clusters', va='center', ha='right', fontsize=12, color='gray')\n",
    "\n",
    "plt.show()"
   ]
  },
  {
   "cell_type": "markdown",
   "id": "ae64ac53",
   "metadata": {},
   "source": [
    "The dendrogram shows how the samples are merged at different distances to form clusters. The height of each node in the dendrogram represents the distance between the clusters being merged. The dendrogram is read from bottom to top, where each leaf represents a single sample, and each internal node represents a merged cluster.\n",
    "\n",
    "The dotted gray line in the dendrogram represents the threshold distance at which k clusters are formed. In this case, we selected k=2, and the red line intersects with the dendrogram at a distance of 15, which indicates that the samples are merged into three clusters at this distance.\n",
    "\n",
    "The dendrogram allows us to visually inspect the cluster hierarchy and decide on an appropriate number of clusters."
   ]
  }
 ],
 "metadata": {
  "kernelspec": {
   "display_name": "Python 3 (ipykernel)",
   "language": "python",
   "name": "python3"
  },
  "language_info": {
   "codemirror_mode": {
    "name": "ipython",
    "version": 3
   },
   "file_extension": ".py",
   "mimetype": "text/x-python",
   "name": "python",
   "nbconvert_exporter": "python",
   "pygments_lexer": "ipython3",
   "version": "3.9.12"
  }
 },
 "nbformat": 4,
 "nbformat_minor": 5
}
